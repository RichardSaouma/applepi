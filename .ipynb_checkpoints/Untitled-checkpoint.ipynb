{
 "cells": [
  {
   "cell_type": "code",
   "execution_count": 3,
   "metadata": {
    "collapsed": false
   },
   "outputs": [
    {
     "ename": "SyntaxError",
     "evalue": "invalid syntax (<ipython-input-3-7d603433061e>, line 13)",
     "output_type": "error",
     "traceback": [
      "\u001b[0;36m  File \u001b[0;32m\"<ipython-input-3-7d603433061e>\"\u001b[0;36m, line \u001b[0;32m13\u001b[0m\n\u001b[0;31m    name=str(\"sniff\"+str(TimeFileStamp)\u001b[0m\n\u001b[0m                                       ^\u001b[0m\n\u001b[0;31mSyntaxError\u001b[0m\u001b[0;31m:\u001b[0m invalid syntax\n"
     ]
    }
   ],
   "source": [
    "\n",
    "import sys, os, signal, datetime\n",
    "from scapy.all import *\n",
    "from multiprocessing import Process\n",
    "from sqlalchemy import create_engine\n",
    "from sqlalchemy.orm import sessionmaker\n",
    "from database import Base, Packet\n",
    "\n",
    "\n",
    "# Database setup.\n",
    "# TODO: Make this mutable.\n",
    "TimeFileStamp=datetime.datetime.now()\n",
    "name=str(\"sniff\"+str(TimeFileStamp)"
   ]
  },
  {
   "cell_type": "code",
   "execution_count": 26,
   "metadata": {
    "collapsed": false
   },
   "outputs": [
    {
     "name": "stdout",
     "output_type": "stream",
     "text": [
      "2016-07-14_13-17-16\n"
     ]
    }
   ],
   "source": [
    "date_str = TimeFileStamp.strftime(\"%Y-%m-%d_%H-%M-%S\")\n",
    "print(date_str)\n"
   ]
  },
  {
   "cell_type": "code",
   "execution_count": 28,
   "metadata": {
    "collapsed": false
   },
   "outputs": [
    {
     "data": {
      "text/plain": [
       "'sqlite:///sniff2016-07-14_13-28-29.db'"
      ]
     },
     "execution_count": 28,
     "metadata": {},
     "output_type": "execute_result"
    }
   ],
   "source": [
    "TimeFileStamp=datetime.datetime.now()\n",
    "date_str = TimeFileStamp.strftime(\"%Y-%m-%d_%H-%M-%S\")\n",
    "name=str(\"sqlite:///\"+\"sniff\"+date_str+\".db\")\n",
    "name"
   ]
  },
  {
   "cell_type": "code",
   "execution_count": null,
   "metadata": {
    "collapsed": true
   },
   "outputs": [],
   "source": [
    "datetime.strptime(date_str, \"%Y-%m-%d %H:%M:%S\")"
   ]
  },
  {
   "cell_type": "code",
   "execution_count": 29,
   "metadata": {
    "collapsed": false
   },
   "outputs": [
    {
     "data": {
      "text/plain": [
       "'7-14-2016-13-28-29'"
      ]
     },
     "execution_count": 29,
     "metadata": {},
     "output_type": "execute_result"
    }
   ],
   "source": [
    "name=str(TimeFileStamp.month)+\"-\"+str(TimeFileStamp.day)+\"-\"+str(TimeFileStamp.year)+\"-\"+str(TimeFileStamp.hour)+\"-\"+str(TimeFileStamp.minute)+\"-\"+str(TimeFileStamp.second)\n",
    "name"
   ]
  },
  {
   "cell_type": "code",
   "execution_count": 30,
   "metadata": {
    "collapsed": false
   },
   "outputs": [
    {
     "data": {
      "text/plain": [
       "'sqlite:///sniff-2016-07-14_13-41-12.db'"
      ]
     },
     "execution_count": 30,
     "metadata": {},
     "output_type": "execute_result"
    }
   ],
   "source": [
    "TimeFileStamp=datetime.datetime.now()\n",
    "date_str = TimeFileStamp.strftime(\"%Y-%m-%d_%H-%M-%S\")\n",
    "name=str(\"sqlite:///\"+\"sniff-\"+date_str+\".db\")\n",
    "name\n"
   ]
  },
  {
   "cell_type": "code",
   "execution_count": null,
   "metadata": {
    "collapsed": true
   },
   "outputs": [],
   "source": []
  },
  {
   "cell_type": "code",
   "execution_count": null,
   "metadata": {
    "collapsed": true
   },
   "outputs": [],
   "source": [
    "\n",
    "\n",
    "def create():\n",
    "    try:\n",
    "        file=open(name, 'a')   # Trying to create a new file or open one\n",
    "        file.close()\n",
    "    except:\n",
    "        print('Something went wrong! Can\\'t tell what?')\n",
    "        sys.exit(0) # quit Python\n",
    "create()"
   ]
  }
 ],
 "metadata": {
  "kernelspec": {
   "display_name": "Python 2",
   "language": "python",
   "name": "python2"
  },
  "language_info": {
   "codemirror_mode": {
    "name": "ipython",
    "version": 2
   },
   "file_extension": ".py",
   "mimetype": "text/x-python",
   "name": "python",
   "nbconvert_exporter": "python",
   "pygments_lexer": "ipython2",
   "version": "2.7.9"
  }
 },
 "nbformat": 4,
 "nbformat_minor": 0
}
